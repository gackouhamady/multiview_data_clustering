{
 "cells": [
  {
   "cell_type": "markdown",
   "metadata": {},
   "source": [
    "Outil de reformulation en partenariat avec QuillBot. Reformulez des textes partout avec l'extension Chrome gratuite.\n",
    "\n",
    " \n",
    "Correcteur d'orthographe\n",
    "\n",
    "Détecteur d'IA\n",
    "\n",
    "Relecture et correction\n",
    "\n",
    "Logiciel anti-plagiat\n",
    "\n",
    "Correcteur IA\n",
    "\n",
    "\n",
    "\n",
    "\n",
    "\n",
    "\n",
    "\n",
    "\n",
    "https://www.scribbr.fr/reformuler-un-texte/?scr_source=knowledgebase&scr_medium=in-text&scr_campaign=gif-reformuler-un-texte-btn"
   ]
  },
  {
   "cell_type": "markdown",
   "metadata": {},
   "source": [
    "- What Type of Review is Right for You?- Decision Tree (Cornell University Library)\n",
    "  https://guides.library.cornell.edu/ld.php?content_id=52561085\n",
    "- Understanding review types: LibGuide (University of Manitoba Libraries)\n",
    "  https://libguides.lib.umanitoba.ca/RFHS-KSsupport/UnderstandReviewTypes\n",
    "- Evidence Synthesis and Literature Reviews: Self-guided learning (Yale University Library)\n",
    "  https://library.medicine.yale.edu/evidence-synthesis-literature-reviews/education\n",
    "- «Right review»: revue quantitative ou qualitative? (A. Tricco, knowledgetranslation.net)\n",
    "  https://rightreview.knowledgetranslation.net/\n",
    "\n",
    "\n"
   ]
  }
 ],
 "metadata": {
  "language_info": {
   "name": "python"
  }
 },
 "nbformat": 4,
 "nbformat_minor": 2
}
