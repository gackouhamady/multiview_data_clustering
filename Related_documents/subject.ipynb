{
 "cells": [
  {
   "cell_type": "markdown",
   "metadata": {},
   "source": [
    "# Research Intern: Multiview Data Clustering\n",
    "\n",
    "## CENTRE BORELLI · Internship\n",
    "## Student  : Hamady GACKOU\n",
    "**1 / Apr 2025 -to 31/ jully 2025**  \n",
    "**Paris, Île-de-France, France · On-site**\n",
    "\n",
    "## Introduction\n",
    "Multiview data clustering is a major challenge in unsupervised learning, where different views provide information from distinct subspaces. The goal is to leverage this diversity to improve clustering quality. This internship focuses on exploring and developing new approaches specific to multiview data.\n",
    "\n",
    "## Tasks to be performed\n",
    "- Conduct a literature review on multiview clustering methods.\n",
    "- Preprocess datasets (normalization, handling of missing views).\n",
    "- Implement and test existing methods in Python.\n",
    "- Develop and experiment with new approaches.\n",
    "- Evaluate and interpret the obtained results.\n"
   ]
  }
 ],
 "metadata": {
  "language_info": {
   "name": "python"
  }
 },
 "nbformat": 4,
 "nbformat_minor": 2
}
